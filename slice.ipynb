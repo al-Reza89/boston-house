{
 "cells": [
  {
   "cell_type": "code",
   "execution_count": 2,
   "id": "62163549",
   "metadata": {},
   "outputs": [
    {
     "name": "stdout",
     "output_type": "stream",
     "text": [
      "[-9, -8, -7, -6, -5, -4, -3, -2, -1, 0, 1, 2, 3, 4]\n",
      "[5, 6, 7, 8, 9]\n",
      "[-9, -8, -7, -6, -5]\n",
      "[-9, -8, -7, -6, -5]\n",
      "[-4, -3, -2, -1, 0, 1, 2, 3, 4, 5, 6, 7, 8, 9]\n"
     ]
    }
   ],
   "source": [
    "arr=[-9,-8,-7,-6,-5,-4,-3,-2,-1,0,1,2,3,4,5,6,7,8,9]\n",
    "\n",
    "# [all:last 5]\n",
    "# [-9, -8, -7, -6, -5, -4, -3, -2, -1, 0, 1, 2, 3, 4]\n",
    "m1=arr[:-5] \n",
    "print(m1)\n",
    "\n",
    "\n",
    "# last 5 element\n",
    "# [5, 6, 7, 8, 9]\n",
    "m2=arr[-5:]\n",
    "print(m2)\n",
    "\n",
    "\n",
    "# [-9, -8, -7, -6, -5]\n",
    "m3=arr[:5] \n",
    "print(m3)\n",
    "\n",
    "\n",
    "\n",
    "# [-9, -8, -7, -6, -5]\n",
    "m5= arr[0:5]\n",
    "print(m5)\n",
    "\n",
    "\n",
    "\n",
    "# [-4, -3, -2, -1, 0, 1, 2, 3, 4, 5, 6, 7, 8, 9]\n",
    "m4=arr[5:]\n",
    "print(m4)\n",
    "\n",
    "\n",
    "\n"
   ]
  },
  {
   "cell_type": "code",
   "execution_count": null,
   "id": "1b6e6d4d",
   "metadata": {},
   "outputs": [],
   "source": []
  }
 ],
 "metadata": {
  "kernelspec": {
   "display_name": "Python 3 (ipykernel)",
   "language": "python",
   "name": "python3"
  },
  "language_info": {
   "codemirror_mode": {
    "name": "ipython",
    "version": 3
   },
   "file_extension": ".py",
   "mimetype": "text/x-python",
   "name": "python",
   "nbconvert_exporter": "python",
   "pygments_lexer": "ipython3",
   "version": "3.8.10"
  }
 },
 "nbformat": 4,
 "nbformat_minor": 5
}
